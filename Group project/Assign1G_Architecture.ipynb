{
  "nbformat": 4,
  "nbformat_minor": 5,
  "metadata": {
    "kernelspec": {
      "display_name": "Python 3",
      "language": "python",
      "name": "python3"
    },
    "language_info": {
      "codemirror_mode": {
        "name": "ipython",
        "version": 3
      },
      "file_extension": ".py",
      "mimetype": "text/x-python",
      "name": "python",
      "nbconvert_exporter": "python",
      "pygments_lexer": "ipython3",
      "version": "3.8.8"
    },
    "colab": {
      "name": "Assign1G_Architecture.ipynb",
      "provenance": [],
      "collapsed_sections": []
    }
  },
  "cells": [
    {
      "cell_type": "code",
      "metadata": {
        "id": "3fb53f46"
      },
      "source": [
        "import pandas as pd\n",
        "import numpy as np\n",
        "from sklearn.model_selection import train_test_split\n",
        "import matplotlib.pyplot as plt\n",
        "import seaborn as sb\n",
        "import pandas as pd\n",
        "import numpy as np\n",
        "import tensorflow as tf\n",
        "from IPython.display import display"
      ],
      "id": "3fb53f46",
      "execution_count": null,
      "outputs": []
    },
    {
      "cell_type": "code",
      "metadata": {
        "scrolled": true,
        "id": "69ad9a4a",
        "colab": {
          "base_uri": "https://localhost:8080/"
        },
        "outputId": "dff08c2d-d295-4e6f-dd1b-e90819935544"
      },
      "source": [
        "df1 = pd.read_csv('/content/train.csv', parse_dates=['Date'], dayfirst=True)\n",
        "df2 = pd.read_csv('/content/test.csv', parse_dates=['Date'], dayfirst=True)\n",
        "df3 = pd.read_csv('/content/store.csv')\n"
      ],
      "id": "69ad9a4a",
      "execution_count": null,
      "outputs": [
        {
          "output_type": "stream",
          "name": "stderr",
          "text": [
            "/usr/local/lib/python3.7/dist-packages/IPython/core/interactiveshell.py:2718: DtypeWarning: Columns (7) have mixed types.Specify dtype option on import or set low_memory=False.\n",
            "  interactivity=interactivity, compiler=compiler, result=result)\n"
          ]
        }
      ]
    },
    {
      "cell_type": "code",
      "source": [
        "print(pd.set_option('display.max_columns', None))"
      ],
      "metadata": {
        "id": "tQuKXyY_kQdo",
        "colab": {
          "base_uri": "https://localhost:8080/"
        },
        "outputId": "9366d266-f94b-4bdf-8e6b-7036ed3d3ff8"
      },
      "id": "tQuKXyY_kQdo",
      "execution_count": null,
      "outputs": [
        {
          "output_type": "stream",
          "name": "stdout",
          "text": [
            "None\n"
          ]
        }
      ]
    },
    {
      "cell_type": "code",
      "metadata": {
        "id": "fac95712",
        "colab": {
          "base_uri": "https://localhost:8080/"
        },
        "outputId": "b001ec27-cec3-42f6-88d1-c84b7f99e867"
      },
      "source": [
        "print(df1.duplicated().sum())\n",
        "print(df2.duplicated().sum())\n",
        "print(df3.duplicated().sum())"
      ],
      "id": "fac95712",
      "execution_count": null,
      "outputs": [
        {
          "output_type": "stream",
          "name": "stdout",
          "text": [
            "0\n",
            "0\n",
            "0\n"
          ]
        }
      ]
    },
    {
      "cell_type": "code",
      "source": [
        "df1.head()"
      ],
      "metadata": {
        "colab": {
          "base_uri": "https://localhost:8080/",
          "height": 204
        },
        "id": "sLI3QEYMvMr0",
        "outputId": "88a2b342-fb61-4c2d-c09a-6aa49f776810"
      },
      "id": "sLI3QEYMvMr0",
      "execution_count": null,
      "outputs": [
        {
          "output_type": "execute_result",
          "data": {
            "text/html": [
              "<div>\n",
              "<style scoped>\n",
              "    .dataframe tbody tr th:only-of-type {\n",
              "        vertical-align: middle;\n",
              "    }\n",
              "\n",
              "    .dataframe tbody tr th {\n",
              "        vertical-align: top;\n",
              "    }\n",
              "\n",
              "    .dataframe thead th {\n",
              "        text-align: right;\n",
              "    }\n",
              "</style>\n",
              "<table border=\"1\" class=\"dataframe\">\n",
              "  <thead>\n",
              "    <tr style=\"text-align: right;\">\n",
              "      <th></th>\n",
              "      <th>Store</th>\n",
              "      <th>DayOfWeek</th>\n",
              "      <th>Date</th>\n",
              "      <th>Sales</th>\n",
              "      <th>Customers</th>\n",
              "      <th>Open</th>\n",
              "      <th>Promo</th>\n",
              "      <th>StateHoliday</th>\n",
              "      <th>SchoolHoliday</th>\n",
              "    </tr>\n",
              "  </thead>\n",
              "  <tbody>\n",
              "    <tr>\n",
              "      <th>0</th>\n",
              "      <td>1</td>\n",
              "      <td>5</td>\n",
              "      <td>2015-07-31</td>\n",
              "      <td>5263</td>\n",
              "      <td>555</td>\n",
              "      <td>1</td>\n",
              "      <td>1</td>\n",
              "      <td>0</td>\n",
              "      <td>1</td>\n",
              "    </tr>\n",
              "    <tr>\n",
              "      <th>1</th>\n",
              "      <td>2</td>\n",
              "      <td>5</td>\n",
              "      <td>2015-07-31</td>\n",
              "      <td>6064</td>\n",
              "      <td>625</td>\n",
              "      <td>1</td>\n",
              "      <td>1</td>\n",
              "      <td>0</td>\n",
              "      <td>1</td>\n",
              "    </tr>\n",
              "    <tr>\n",
              "      <th>2</th>\n",
              "      <td>3</td>\n",
              "      <td>5</td>\n",
              "      <td>2015-07-31</td>\n",
              "      <td>8314</td>\n",
              "      <td>821</td>\n",
              "      <td>1</td>\n",
              "      <td>1</td>\n",
              "      <td>0</td>\n",
              "      <td>1</td>\n",
              "    </tr>\n",
              "    <tr>\n",
              "      <th>3</th>\n",
              "      <td>4</td>\n",
              "      <td>5</td>\n",
              "      <td>2015-07-31</td>\n",
              "      <td>13995</td>\n",
              "      <td>1498</td>\n",
              "      <td>1</td>\n",
              "      <td>1</td>\n",
              "      <td>0</td>\n",
              "      <td>1</td>\n",
              "    </tr>\n",
              "    <tr>\n",
              "      <th>4</th>\n",
              "      <td>5</td>\n",
              "      <td>5</td>\n",
              "      <td>2015-07-31</td>\n",
              "      <td>4822</td>\n",
              "      <td>559</td>\n",
              "      <td>1</td>\n",
              "      <td>1</td>\n",
              "      <td>0</td>\n",
              "      <td>1</td>\n",
              "    </tr>\n",
              "  </tbody>\n",
              "</table>\n",
              "</div>"
            ],
            "text/plain": [
              "   Store  DayOfWeek       Date  Sales  Customers  Open  Promo StateHoliday  \\\n",
              "0      1          5 2015-07-31   5263        555     1      1            0   \n",
              "1      2          5 2015-07-31   6064        625     1      1            0   \n",
              "2      3          5 2015-07-31   8314        821     1      1            0   \n",
              "3      4          5 2015-07-31  13995       1498     1      1            0   \n",
              "4      5          5 2015-07-31   4822        559     1      1            0   \n",
              "\n",
              "   SchoolHoliday  \n",
              "0              1  \n",
              "1              1  \n",
              "2              1  \n",
              "3              1  \n",
              "4              1  "
            ]
          },
          "metadata": {},
          "execution_count": 185
        }
      ]
    },
    {
      "cell_type": "code",
      "source": [
        "print(df1.isnull().sum())\n",
        "print(df2.isnull().sum())\n"
      ],
      "metadata": {
        "id": "5UEGcJrfnQiA",
        "colab": {
          "base_uri": "https://localhost:8080/"
        },
        "outputId": "5435fd89-6943-471a-931b-7151c44ee8a8"
      },
      "id": "5UEGcJrfnQiA",
      "execution_count": null,
      "outputs": [
        {
          "output_type": "stream",
          "name": "stdout",
          "text": [
            "Store            0\n",
            "DayOfWeek        0\n",
            "Date             0\n",
            "Sales            0\n",
            "Customers        0\n",
            "Open             0\n",
            "Promo            0\n",
            "StateHoliday     0\n",
            "SchoolHoliday    0\n",
            "dtype: int64\n",
            "Id                0\n",
            "Store             0\n",
            "DayOfWeek         0\n",
            "Date              0\n",
            "Open             11\n",
            "Promo             0\n",
            "StateHoliday      0\n",
            "SchoolHoliday     0\n",
            "dtype: int64\n"
          ]
        }
      ]
    },
    {
      "cell_type": "code",
      "source": [
        "print(df2.isnull().sum())\n"
      ],
      "metadata": {
        "colab": {
          "base_uri": "https://localhost:8080/"
        },
        "id": "Q1Gwuky87ICq",
        "outputId": "ee4cda8b-d5e2-4684-d62f-00d9f81b9c96"
      },
      "id": "Q1Gwuky87ICq",
      "execution_count": null,
      "outputs": [
        {
          "output_type": "stream",
          "name": "stdout",
          "text": [
            "Id                0\n",
            "Store             0\n",
            "DayOfWeek         0\n",
            "Date              0\n",
            "Open             11\n",
            "Promo             0\n",
            "StateHoliday      0\n",
            "SchoolHoliday     0\n",
            "dtype: int64\n"
          ]
        }
      ]
    },
    {
      "cell_type": "code",
      "source": [
        "print(df3.isnull().sum())"
      ],
      "metadata": {
        "colab": {
          "base_uri": "https://localhost:8080/"
        },
        "id": "45HsEO7s7INo",
        "outputId": "661b4a78-f799-4ec7-b49d-6695f5e76d63"
      },
      "id": "45HsEO7s7INo",
      "execution_count": null,
      "outputs": [
        {
          "output_type": "stream",
          "name": "stdout",
          "text": [
            "Store                          0\n",
            "StoreType                      0\n",
            "Assortment                     0\n",
            "CompetitionDistance            3\n",
            "CompetitionOpenSinceMonth    354\n",
            "CompetitionOpenSinceYear     354\n",
            "Promo2                         0\n",
            "Promo2SinceWeek              544\n",
            "Promo2SinceYear              544\n",
            "PromoInterval                544\n",
            "dtype: int64\n"
          ]
        }
      ]
    },
    {
      "cell_type": "code",
      "source": [
        "print(df2[df2.isnull().values.any(axis=1)])"
      ],
      "metadata": {
        "colab": {
          "base_uri": "https://localhost:8080/"
        },
        "id": "xMulNsWJ72rg",
        "outputId": "d7bb4873-0d8f-463d-b9ac-c2aa906d6221"
      },
      "id": "xMulNsWJ72rg",
      "execution_count": null,
      "outputs": [
        {
          "output_type": "stream",
          "name": "stdout",
          "text": [
            "          Id  Store  DayOfWeek       Date  Open  Promo StateHoliday  \\\n",
            "479      480    622          4 2015-09-17   NaN      1            0   \n",
            "1335    1336    622          3 2015-09-16   NaN      1            0   \n",
            "2191    2192    622          2 2015-09-15   NaN      1            0   \n",
            "3047    3048    622          1 2015-09-14   NaN      1            0   \n",
            "4759    4760    622          6 2015-09-12   NaN      0            0   \n",
            "5615    5616    622          5 2015-09-11   NaN      0            0   \n",
            "6471    6472    622          4 2015-09-10   NaN      0            0   \n",
            "7327    7328    622          3 2015-09-09   NaN      0            0   \n",
            "8183    8184    622          2 2015-09-08   NaN      0            0   \n",
            "9039    9040    622          1 2015-09-07   NaN      0            0   \n",
            "10751  10752    622          6 2015-09-05   NaN      0            0   \n",
            "\n",
            "       SchoolHoliday  \n",
            "479                0  \n",
            "1335               0  \n",
            "2191               0  \n",
            "3047               0  \n",
            "4759               0  \n",
            "5615               0  \n",
            "6471               0  \n",
            "7327               0  \n",
            "8183               0  \n",
            "9039               0  \n",
            "10751              0  \n"
          ]
        }
      ]
    },
    {
      "cell_type": "code",
      "metadata": {
        "colab": {
          "base_uri": "https://localhost:8080/"
        },
        "id": "9bdf202f",
        "outputId": "ed88edba-4b18-423a-bfcb-8a01bf016a4b"
      },
      "source": [
        "df2 = df2.dropna()\n",
        "print(df2.shape)"
      ],
      "id": "9bdf202f",
      "execution_count": null,
      "outputs": [
        {
          "output_type": "stream",
          "name": "stdout",
          "text": [
            "(41077, 8)\n"
          ]
        }
      ]
    },
    {
      "cell_type": "code",
      "source": [
        "print(df1['Store'].nunique())"
      ],
      "metadata": {
        "colab": {
          "base_uri": "https://localhost:8080/"
        },
        "id": "xBL4LJ2ICZj8",
        "outputId": "d707457c-2cc7-4365-8668-622b18f15d5c"
      },
      "id": "xBL4LJ2ICZj8",
      "execution_count": null,
      "outputs": [
        {
          "output_type": "stream",
          "name": "stdout",
          "text": [
            "1115\n"
          ]
        }
      ]
    },
    {
      "cell_type": "code",
      "source": [
        "time0 = pd.Timestamp('2014-08-01 00:00:00')\n",
        "df1['Date'] = (df1['Date'] - time0).values.astype(float)\n",
        "print(df1.head())\n",
        "df2['Date'] = (df2['Date'] - time0).values.astype(float)\n",
        "print(df2.head())"
      ],
      "metadata": {
        "colab": {
          "base_uri": "https://localhost:8080/"
        },
        "id": "5txCjIHAkNYZ",
        "outputId": "1207b3cc-7ef6-4b61-8c34-a09141aeb720"
      },
      "id": "5txCjIHAkNYZ",
      "execution_count": null,
      "outputs": [
        {
          "output_type": "stream",
          "name": "stdout",
          "text": [
            "   Store  DayOfWeek          Date  Sales  Customers  Open  Promo StateHoliday  \\\n",
            "0      1          5  3.144960e+16   5263        555     1      1            0   \n",
            "1      2          5  3.144960e+16   6064        625     1      1            0   \n",
            "2      3          5  3.144960e+16   8314        821     1      1            0   \n",
            "3      4          5  3.144960e+16  13995       1498     1      1            0   \n",
            "4      5          5  3.144960e+16   4822        559     1      1            0   \n",
            "\n",
            "   SchoolHoliday  \n",
            "0              1  \n",
            "1              1  \n",
            "2              1  \n",
            "3              1  \n",
            "4              1  \n",
            "   Id  Store  DayOfWeek          Date  Open  Promo StateHoliday  SchoolHoliday\n",
            "0   1      1          4  3.559680e+16   1.0      1            0              0\n",
            "1   2      3          4  3.559680e+16   1.0      1            0              0\n",
            "2   3      7          4  3.559680e+16   1.0      1            0              0\n",
            "3   4      8          4  3.559680e+16   1.0      1            0              0\n",
            "4   5      9          4  3.559680e+16   1.0      1            0              0\n"
          ]
        }
      ]
    },
    {
      "cell_type": "code",
      "source": [
        "d_train_store = df1.merge(df3, on=['Store'], how='inner')\n",
        "\n",
        "d_train_store.head()"
      ],
      "metadata": {
        "id": "heJVNxpmnSpJ",
        "colab": {
          "base_uri": "https://localhost:8080/",
          "height": 224
        },
        "outputId": "09489c1e-a701-44d2-baa0-fbdda0847514"
      },
      "id": "heJVNxpmnSpJ",
      "execution_count": null,
      "outputs": [
        {
          "output_type": "execute_result",
          "data": {
            "text/html": [
              "<div>\n",
              "<style scoped>\n",
              "    .dataframe tbody tr th:only-of-type {\n",
              "        vertical-align: middle;\n",
              "    }\n",
              "\n",
              "    .dataframe tbody tr th {\n",
              "        vertical-align: top;\n",
              "    }\n",
              "\n",
              "    .dataframe thead th {\n",
              "        text-align: right;\n",
              "    }\n",
              "</style>\n",
              "<table border=\"1\" class=\"dataframe\">\n",
              "  <thead>\n",
              "    <tr style=\"text-align: right;\">\n",
              "      <th></th>\n",
              "      <th>Store</th>\n",
              "      <th>DayOfWeek</th>\n",
              "      <th>Date</th>\n",
              "      <th>Sales</th>\n",
              "      <th>Customers</th>\n",
              "      <th>Open</th>\n",
              "      <th>Promo</th>\n",
              "      <th>StateHoliday</th>\n",
              "      <th>SchoolHoliday</th>\n",
              "      <th>StoreType</th>\n",
              "      <th>Assortment</th>\n",
              "      <th>CompetitionDistance</th>\n",
              "      <th>CompetitionOpenSinceMonth</th>\n",
              "      <th>CompetitionOpenSinceYear</th>\n",
              "      <th>Promo2</th>\n",
              "      <th>Promo2SinceWeek</th>\n",
              "      <th>Promo2SinceYear</th>\n",
              "      <th>PromoInterval</th>\n",
              "    </tr>\n",
              "  </thead>\n",
              "  <tbody>\n",
              "    <tr>\n",
              "      <th>0</th>\n",
              "      <td>1</td>\n",
              "      <td>5</td>\n",
              "      <td>3.144960e+16</td>\n",
              "      <td>5263</td>\n",
              "      <td>555</td>\n",
              "      <td>1</td>\n",
              "      <td>1</td>\n",
              "      <td>0</td>\n",
              "      <td>1</td>\n",
              "      <td>c</td>\n",
              "      <td>a</td>\n",
              "      <td>1270.0</td>\n",
              "      <td>9.0</td>\n",
              "      <td>2008.0</td>\n",
              "      <td>0</td>\n",
              "      <td>NaN</td>\n",
              "      <td>NaN</td>\n",
              "      <td>NaN</td>\n",
              "    </tr>\n",
              "    <tr>\n",
              "      <th>1</th>\n",
              "      <td>1</td>\n",
              "      <td>4</td>\n",
              "      <td>3.136320e+16</td>\n",
              "      <td>5020</td>\n",
              "      <td>546</td>\n",
              "      <td>1</td>\n",
              "      <td>1</td>\n",
              "      <td>0</td>\n",
              "      <td>1</td>\n",
              "      <td>c</td>\n",
              "      <td>a</td>\n",
              "      <td>1270.0</td>\n",
              "      <td>9.0</td>\n",
              "      <td>2008.0</td>\n",
              "      <td>0</td>\n",
              "      <td>NaN</td>\n",
              "      <td>NaN</td>\n",
              "      <td>NaN</td>\n",
              "    </tr>\n",
              "    <tr>\n",
              "      <th>2</th>\n",
              "      <td>1</td>\n",
              "      <td>3</td>\n",
              "      <td>3.127680e+16</td>\n",
              "      <td>4782</td>\n",
              "      <td>523</td>\n",
              "      <td>1</td>\n",
              "      <td>1</td>\n",
              "      <td>0</td>\n",
              "      <td>1</td>\n",
              "      <td>c</td>\n",
              "      <td>a</td>\n",
              "      <td>1270.0</td>\n",
              "      <td>9.0</td>\n",
              "      <td>2008.0</td>\n",
              "      <td>0</td>\n",
              "      <td>NaN</td>\n",
              "      <td>NaN</td>\n",
              "      <td>NaN</td>\n",
              "    </tr>\n",
              "    <tr>\n",
              "      <th>3</th>\n",
              "      <td>1</td>\n",
              "      <td>2</td>\n",
              "      <td>3.119040e+16</td>\n",
              "      <td>5011</td>\n",
              "      <td>560</td>\n",
              "      <td>1</td>\n",
              "      <td>1</td>\n",
              "      <td>0</td>\n",
              "      <td>1</td>\n",
              "      <td>c</td>\n",
              "      <td>a</td>\n",
              "      <td>1270.0</td>\n",
              "      <td>9.0</td>\n",
              "      <td>2008.0</td>\n",
              "      <td>0</td>\n",
              "      <td>NaN</td>\n",
              "      <td>NaN</td>\n",
              "      <td>NaN</td>\n",
              "    </tr>\n",
              "    <tr>\n",
              "      <th>4</th>\n",
              "      <td>1</td>\n",
              "      <td>1</td>\n",
              "      <td>3.110400e+16</td>\n",
              "      <td>6102</td>\n",
              "      <td>612</td>\n",
              "      <td>1</td>\n",
              "      <td>1</td>\n",
              "      <td>0</td>\n",
              "      <td>1</td>\n",
              "      <td>c</td>\n",
              "      <td>a</td>\n",
              "      <td>1270.0</td>\n",
              "      <td>9.0</td>\n",
              "      <td>2008.0</td>\n",
              "      <td>0</td>\n",
              "      <td>NaN</td>\n",
              "      <td>NaN</td>\n",
              "      <td>NaN</td>\n",
              "    </tr>\n",
              "  </tbody>\n",
              "</table>\n",
              "</div>"
            ],
            "text/plain": [
              "   Store  DayOfWeek          Date  Sales  Customers  Open  Promo StateHoliday  \\\n",
              "0      1          5  3.144960e+16   5263        555     1      1            0   \n",
              "1      1          4  3.136320e+16   5020        546     1      1            0   \n",
              "2      1          3  3.127680e+16   4782        523     1      1            0   \n",
              "3      1          2  3.119040e+16   5011        560     1      1            0   \n",
              "4      1          1  3.110400e+16   6102        612     1      1            0   \n",
              "\n",
              "   SchoolHoliday StoreType Assortment  CompetitionDistance  \\\n",
              "0              1         c          a               1270.0   \n",
              "1              1         c          a               1270.0   \n",
              "2              1         c          a               1270.0   \n",
              "3              1         c          a               1270.0   \n",
              "4              1         c          a               1270.0   \n",
              "\n",
              "   CompetitionOpenSinceMonth  CompetitionOpenSinceYear  Promo2  \\\n",
              "0                        9.0                    2008.0       0   \n",
              "1                        9.0                    2008.0       0   \n",
              "2                        9.0                    2008.0       0   \n",
              "3                        9.0                    2008.0       0   \n",
              "4                        9.0                    2008.0       0   \n",
              "\n",
              "   Promo2SinceWeek  Promo2SinceYear PromoInterval  \n",
              "0              NaN              NaN           NaN  \n",
              "1              NaN              NaN           NaN  \n",
              "2              NaN              NaN           NaN  \n",
              "3              NaN              NaN           NaN  \n",
              "4              NaN              NaN           NaN  "
            ]
          },
          "metadata": {},
          "execution_count": 193
        }
      ]
    },
    {
      "cell_type": "code",
      "source": [
        "import matplotlib.pyplot as plt\n",
        "import seaborn as sns\n",
        "color = sns.color_palette()\n",
        "sns.set_style('darkgrid')\n",
        "\n",
        "corrmat = d_train_store.corr()\n",
        "plt.subplots(figsize=(12,9))\n",
        "sns.heatmap(corrmat, vmax=0.9, square=True)"
      ],
      "metadata": {
        "colab": {
          "base_uri": "https://localhost:8080/",
          "height": 709
        },
        "id": "coR0Nesysvgp",
        "outputId": "4babbc5f-81d7-4e71-feba-d5e6b0d9b5db"
      },
      "id": "coR0Nesysvgp",
      "execution_count": null,
      "outputs": [
        {
          "output_type": "execute_result",
          "data": {
            "text/plain": [
              "<matplotlib.axes._subplots.AxesSubplot at 0x7f189d77cf50>"
            ]
          },
          "metadata": {},
          "execution_count": 194
        },
        {
          "output_type": "display_data",
          "data": {
            "image/png": "[encoded data removed]",
            "text/plain": [
              "<Figure size 864x648 with 2 Axes>"
            ]
          },
          "metadata": {}
        }
      ]
    },
    {
      "cell_type": "code",
      "source": [
        "print(d_train_store.shape)"
      ],
      "metadata": {
        "colab": {
          "base_uri": "https://localhost:8080/"
        },
        "id": "ccELlnVQSjGP",
        "outputId": "4561b4da-9876-48f9-9ed4-6849585a0926"
      },
      "id": "ccELlnVQSjGP",
      "execution_count": null,
      "outputs": [
        {
          "output_type": "stream",
          "name": "stdout",
          "text": [
            "(1017209, 18)\n"
          ]
        }
      ]
    },
    {
      "cell_type": "code",
      "source": [
        "d_test_store = df2.merge(df3, on=['Store'], how='inner')\n",
        "d_test_store.head()"
      ],
      "metadata": {
        "id": "gWdGojBtnSrr",
        "colab": {
          "base_uri": "https://localhost:8080/",
          "height": 224
        },
        "outputId": "fac1b5e8-1e59-4520-cfe3-a711d720a147"
      },
      "id": "gWdGojBtnSrr",
      "execution_count": null,
      "outputs": [
        {
          "output_type": "execute_result",
          "data": {
            "text/html": [
              "<div>\n",
              "<style scoped>\n",
              "    .dataframe tbody tr th:only-of-type {\n",
              "        vertical-align: middle;\n",
              "    }\n",
              "\n",
              "    .dataframe tbody tr th {\n",
              "        vertical-align: top;\n",
              "    }\n",
              "\n",
              "    .dataframe thead th {\n",
              "        text-align: right;\n",
              "    }\n",
              "</style>\n",
              "<table border=\"1\" class=\"dataframe\">\n",
              "  <thead>\n",
              "    <tr style=\"text-align: right;\">\n",
              "      <th></th>\n",
              "      <th>Id</th>\n",
              "      <th>Store</th>\n",
              "      <th>DayOfWeek</th>\n",
              "      <th>Date</th>\n",
              "      <th>Open</th>\n",
              "      <th>Promo</th>\n",
              "      <th>StateHoliday</th>\n",
              "      <th>SchoolHoliday</th>\n",
              "      <th>StoreType</th>\n",
              "      <th>Assortment</th>\n",
              "      <th>CompetitionDistance</th>\n",
              "      <th>CompetitionOpenSinceMonth</th>\n",
              "      <th>CompetitionOpenSinceYear</th>\n",
              "      <th>Promo2</th>\n",
              "      <th>Promo2SinceWeek</th>\n",
              "      <th>Promo2SinceYear</th>\n",
              "      <th>PromoInterval</th>\n",
              "    </tr>\n",
              "  </thead>\n",
              "  <tbody>\n",
              "    <tr>\n",
              "      <th>0</th>\n",
              "      <td>1</td>\n",
              "      <td>1</td>\n",
              "      <td>4</td>\n",
              "      <td>3.559680e+16</td>\n",
              "      <td>1.0</td>\n",
              "      <td>1</td>\n",
              "      <td>0</td>\n",
              "      <td>0</td>\n",
              "      <td>c</td>\n",
              "      <td>a</td>\n",
              "      <td>1270.0</td>\n",
              "      <td>9.0</td>\n",
              "      <td>2008.0</td>\n",
              "      <td>0</td>\n",
              "      <td>NaN</td>\n",
              "      <td>NaN</td>\n",
              "      <td>NaN</td>\n",
              "    </tr>\n",
              "    <tr>\n",
              "      <th>1</th>\n",
              "      <td>857</td>\n",
              "      <td>1</td>\n",
              "      <td>3</td>\n",
              "      <td>3.551040e+16</td>\n",
              "      <td>1.0</td>\n",
              "      <td>1</td>\n",
              "      <td>0</td>\n",
              "      <td>0</td>\n",
              "      <td>c</td>\n",
              "      <td>a</td>\n",
              "      <td>1270.0</td>\n",
              "      <td>9.0</td>\n",
              "      <td>2008.0</td>\n",
              "      <td>0</td>\n",
              "      <td>NaN</td>\n",
              "      <td>NaN</td>\n",
              "      <td>NaN</td>\n",
              "    </tr>\n",
              "    <tr>\n",
              "      <th>2</th>\n",
              "      <td>1713</td>\n",
              "      <td>1</td>\n",
              "      <td>2</td>\n",
              "      <td>3.542400e+16</td>\n",
              "      <td>1.0</td>\n",
              "      <td>1</td>\n",
              "      <td>0</td>\n",
              "      <td>0</td>\n",
              "      <td>c</td>\n",
              "      <td>a</td>\n",
              "      <td>1270.0</td>\n",
              "      <td>9.0</td>\n",
              "      <td>2008.0</td>\n",
              "      <td>0</td>\n",
              "      <td>NaN</td>\n",
              "      <td>NaN</td>\n",
              "      <td>NaN</td>\n",
              "    </tr>\n",
              "    <tr>\n",
              "      <th>3</th>\n",
              "      <td>2569</td>\n",
              "      <td>1</td>\n",
              "      <td>1</td>\n",
              "      <td>3.533760e+16</td>\n",
              "      <td>1.0</td>\n",
              "      <td>1</td>\n",
              "      <td>0</td>\n",
              "      <td>0</td>\n",
              "      <td>c</td>\n",
              "      <td>a</td>\n",
              "      <td>1270.0</td>\n",
              "      <td>9.0</td>\n",
              "      <td>2008.0</td>\n",
              "      <td>0</td>\n",
              "      <td>NaN</td>\n",
              "      <td>NaN</td>\n",
              "      <td>NaN</td>\n",
              "    </tr>\n",
              "    <tr>\n",
              "      <th>4</th>\n",
              "      <td>3425</td>\n",
              "      <td>1</td>\n",
              "      <td>7</td>\n",
              "      <td>3.525120e+16</td>\n",
              "      <td>0.0</td>\n",
              "      <td>0</td>\n",
              "      <td>0</td>\n",
              "      <td>0</td>\n",
              "      <td>c</td>\n",
              "      <td>a</td>\n",
              "      <td>1270.0</td>\n",
              "      <td>9.0</td>\n",
              "      <td>2008.0</td>\n",
              "      <td>0</td>\n",
              "      <td>NaN</td>\n",
              "      <td>NaN</td>\n",
              "      <td>NaN</td>\n",
              "    </tr>\n",
              "  </tbody>\n",
              "</table>\n",
              "</div>"
            ],
            "text/plain": [
              "     Id  Store  DayOfWeek          Date  Open  Promo StateHoliday  \\\n",
              "0     1      1          4  3.559680e+16   1.0      1            0   \n",
              "1   857      1          3  3.551040e+16   1.0      1            0   \n",
              "2  1713      1          2  3.542400e+16   1.0      1            0   \n",
              "3  2569      1          1  3.533760e+16   1.0      1            0   \n",
              "4  3425      1          7  3.525120e+16   0.0      0            0   \n",
              "\n",
              "   SchoolHoliday StoreType Assortment  CompetitionDistance  \\\n",
              "0              0         c          a               1270.0   \n",
              "1              0         c          a               1270.0   \n",
              "2              0         c          a               1270.0   \n",
              "3              0         c          a               1270.0   \n",
              "4              0         c          a               1270.0   \n",
              "\n",
              "   CompetitionOpenSinceMonth  CompetitionOpenSinceYear  Promo2  \\\n",
              "0                        9.0                    2008.0       0   \n",
              "1                        9.0                    2008.0       0   \n",
              "2                        9.0                    2008.0       0   \n",
              "3                        9.0                    2008.0       0   \n",
              "4                        9.0                    2008.0       0   \n",
              "\n",
              "   Promo2SinceWeek  Promo2SinceYear PromoInterval  \n",
              "0              NaN              NaN           NaN  \n",
              "1              NaN              NaN           NaN  \n",
              "2              NaN              NaN           NaN  \n",
              "3              NaN              NaN           NaN  \n",
              "4              NaN              NaN           NaN  "
            ]
          },
          "metadata": {},
          "execution_count": 196
        }
      ]
    },
    {
      "cell_type": "code",
      "metadata": {
        "id": "a997255e"
      },
      "source": [
        "d_train_store.drop('CompetitionOpenSinceMonth',axis=1, inplace=True)\n",
        "d_train_store.drop('CompetitionOpenSinceYear',axis=1, inplace=True)\n",
        "\n",
        "d_train_store.drop('Promo2SinceWeek',axis=1, inplace=True)\n",
        "d_train_store.drop('Promo2SinceYear',axis=1, inplace=True)\n",
        "\n",
        "d_test_store.drop('CompetitionOpenSinceMonth',axis=1, inplace=True)\n",
        "d_test_store.drop('CompetitionOpenSinceYear',axis=1, inplace=True)\n",
        "\n",
        "d_test_store.drop('Promo2SinceWeek',axis=1, inplace=True)\n",
        "d_test_store.drop('Promo2SinceYear',axis=1, inplace=True)\n"
      ],
      "id": "a997255e",
      "execution_count": null,
      "outputs": []
    },
    {
      "cell_type": "code",
      "source": [
        "d_train_store.drop('PromoInterval', axis=1, inplace=True)\n",
        "d_test_store.drop('PromoInterval', axis=1, inplace=True)"
      ],
      "metadata": {
        "id": "JlnEuLQQpR99"
      },
      "id": "JlnEuLQQpR99",
      "execution_count": null,
      "outputs": []
    },
    {
      "cell_type": "code",
      "metadata": {
        "id": "RMftHS2-Lu-I",
        "colab": {
          "base_uri": "https://localhost:8080/",
          "height": 204
        },
        "outputId": "3c5d27dd-7b7c-4f04-d5e0-beb91d52dcee"
      },
      "source": [
        "d_train_store.head()"
      ],
      "id": "RMftHS2-Lu-I",
      "execution_count": null,
      "outputs": [
        {
          "output_type": "execute_result",
          "data": {
            "text/html": [
              "<div>\n",
              "<style scoped>\n",
              "    .dataframe tbody tr th:only-of-type {\n",
              "        vertical-align: middle;\n",
              "    }\n",
              "\n",
              "    .dataframe tbody tr th {\n",
              "        vertical-align: top;\n",
              "    }\n",
              "\n",
              "    .dataframe thead th {\n",
              "        text-align: right;\n",
              "    }\n",
              "</style>\n",
              "<table border=\"1\" class=\"dataframe\">\n",
              "  <thead>\n",
              "    <tr style=\"text-align: right;\">\n",
              "      <th></th>\n",
              "      <th>Store</th>\n",
              "      <th>DayOfWeek</th>\n",
              "      <th>Date</th>\n",
              "      <th>Sales</th>\n",
              "      <th>Customers</th>\n",
              "      <th>Open</th>\n",
              "      <th>Promo</th>\n",
              "      <th>StateHoliday</th>\n",
              "      <th>SchoolHoliday</th>\n",
              "      <th>StoreType</th>\n",
              "      <th>Assortment</th>\n",
              "      <th>CompetitionDistance</th>\n",
              "      <th>Promo2</th>\n",
              "    </tr>\n",
              "  </thead>\n",
              "  <tbody>\n",
              "    <tr>\n",
              "      <th>0</th>\n",
              "      <td>1</td>\n",
              "      <td>5</td>\n",
              "      <td>3.144960e+16</td>\n",
              "      <td>5263</td>\n",
              "      <td>555</td>\n",
              "      <td>1</td>\n",
              "      <td>1</td>\n",
              "      <td>0</td>\n",
              "      <td>1</td>\n",
              "      <td>c</td>\n",
              "      <td>a</td>\n",
              "      <td>1270.0</td>\n",
              "      <td>0</td>\n",
              "    </tr>\n",
              "    <tr>\n",
              "      <th>1</th>\n",
              "      <td>1</td>\n",
              "      <td>4</td>\n",
              "      <td>3.136320e+16</td>\n",
              "      <td>5020</td>\n",
              "      <td>546</td>\n",
              "      <td>1</td>\n",
              "      <td>1</td>\n",
              "      <td>0</td>\n",
              "      <td>1</td>\n",
              "      <td>c</td>\n",
              "      <td>a</td>\n",
              "      <td>1270.0</td>\n",
              "      <td>0</td>\n",
              "    </tr>\n",
              "    <tr>\n",
              "      <th>2</th>\n",
              "      <td>1</td>\n",
              "      <td>3</td>\n",
              "      <td>3.127680e+16</td>\n",
              "      <td>4782</td>\n",
              "      <td>523</td>\n",
              "      <td>1</td>\n",
              "      <td>1</td>\n",
              "      <td>0</td>\n",
              "      <td>1</td>\n",
              "      <td>c</td>\n",
              "      <td>a</td>\n",
              "      <td>1270.0</td>\n",
              "      <td>0</td>\n",
              "    </tr>\n",
              "    <tr>\n",
              "      <th>3</th>\n",
              "      <td>1</td>\n",
              "      <td>2</td>\n",
              "      <td>3.119040e+16</td>\n",
              "      <td>5011</td>\n",
              "      <td>560</td>\n",
              "      <td>1</td>\n",
              "      <td>1</td>\n",
              "      <td>0</td>\n",
              "      <td>1</td>\n",
              "      <td>c</td>\n",
              "      <td>a</td>\n",
              "      <td>1270.0</td>\n",
              "      <td>0</td>\n",
              "    </tr>\n",
              "    <tr>\n",
              "      <th>4</th>\n",
              "      <td>1</td>\n",
              "      <td>1</td>\n",
              "      <td>3.110400e+16</td>\n",
              "      <td>6102</td>\n",
              "      <td>612</td>\n",
              "      <td>1</td>\n",
              "      <td>1</td>\n",
              "      <td>0</td>\n",
              "      <td>1</td>\n",
              "      <td>c</td>\n",
              "      <td>a</td>\n",
              "      <td>1270.0</td>\n",
              "      <td>0</td>\n",
              "    </tr>\n",
              "  </tbody>\n",
              "</table>\n",
              "</div>"
            ],
            "text/plain": [
              "   Store  DayOfWeek          Date  Sales  Customers  Open  Promo StateHoliday  \\\n",
              "0      1          5  3.144960e+16   5263        555     1      1            0   \n",
              "1      1          4  3.136320e+16   5020        546     1      1            0   \n",
              "2      1          3  3.127680e+16   4782        523     1      1            0   \n",
              "3      1          2  3.119040e+16   5011        560     1      1            0   \n",
              "4      1          1  3.110400e+16   6102        612     1      1            0   \n",
              "\n",
              "   SchoolHoliday StoreType Assortment  CompetitionDistance  Promo2  \n",
              "0              1         c          a               1270.0       0  \n",
              "1              1         c          a               1270.0       0  \n",
              "2              1         c          a               1270.0       0  \n",
              "3              1         c          a               1270.0       0  \n",
              "4              1         c          a               1270.0       0  "
            ]
          },
          "metadata": {},
          "execution_count": 199
        }
      ]
    },
    {
      "cell_type": "code",
      "source": [
        "print(d_train_store.dtypes)\n",
        "print(d_test_store.dtypes)"
      ],
      "metadata": {
        "colab": {
          "base_uri": "https://localhost:8080/"
        },
        "id": "YNLYT-nuzJCE",
        "outputId": "95e14f4d-d1e9-4e16-f65c-36088e6a5f83"
      },
      "id": "YNLYT-nuzJCE",
      "execution_count": null,
      "outputs": [
        {
          "output_type": "stream",
          "name": "stdout",
          "text": [
            "Store                    int64\n",
            "DayOfWeek                int64\n",
            "Date                   float64\n",
            "Sales                    int64\n",
            "Customers                int64\n",
            "Open                     int64\n",
            "Promo                    int64\n",
            "StateHoliday            object\n",
            "SchoolHoliday            int64\n",
            "StoreType               object\n",
            "Assortment              object\n",
            "CompetitionDistance    float64\n",
            "Promo2                   int64\n",
            "dtype: object\n",
            "Id                       int64\n",
            "Store                    int64\n",
            "DayOfWeek                int64\n",
            "Date                   float64\n",
            "Open                   float64\n",
            "Promo                    int64\n",
            "StateHoliday            object\n",
            "SchoolHoliday            int64\n",
            "StoreType               object\n",
            "Assortment              object\n",
            "CompetitionDistance    float64\n",
            "Promo2                   int64\n",
            "dtype: object\n"
          ]
        }
      ]
    },
    {
      "cell_type": "code",
      "source": [
        "d_train_store.isnull().sum()"
      ],
      "metadata": {
        "colab": {
          "base_uri": "https://localhost:8080/"
        },
        "id": "1wJf6YQkkY03",
        "outputId": "578ba3c9-98c7-4278-9e91-00db2fce7963"
      },
      "id": "1wJf6YQkkY03",
      "execution_count": null,
      "outputs": [
        {
          "output_type": "execute_result",
          "data": {
            "text/plain": [
              "Store                     0\n",
              "DayOfWeek                 0\n",
              "Date                      0\n",
              "Sales                     0\n",
              "Customers                 0\n",
              "Open                      0\n",
              "Promo                     0\n",
              "StateHoliday              0\n",
              "SchoolHoliday             0\n",
              "StoreType                 0\n",
              "Assortment                0\n",
              "CompetitionDistance    2642\n",
              "Promo2                    0\n",
              "dtype: int64"
            ]
          },
          "metadata": {},
          "execution_count": 154
        }
      ]
    },
    {
      "cell_type": "markdown",
      "metadata": {
        "id": "ZC9J-hmxM2db"
      },
      "source": [
        "Histogram checking data skewness (Store Data)"
      ],
      "id": "ZC9J-hmxM2db"
    },
    {
      "cell_type": "code",
      "metadata": {
        "id": "ImAmMvosM1a_"
      },
      "source": [
        "from mlxtend.plotting import plot_decision_regions\n",
        "import numpy as np\n",
        "import pandas as pd\n",
        "import matplotlib.pyplot as plt\n",
        "import seaborn as sns\n",
        "sns.set()\n",
        "\n",
        "%matplotlib inline"
      ],
      "id": "ImAmMvosM1a_",
      "execution_count": null,
      "outputs": []
    },
    {
      "cell_type": "code",
      "metadata": {
        "colab": {
          "base_uri": "https://localhost:8080/",
          "height": 1000
        },
        "id": "tw40LBMgM9yO",
        "outputId": "b72b1666-0a83-49ce-8b5c-4f5c22ff4efd"
      },
      "source": [
        "p = d_train_store.hist(figsize = (20,20))\n"
      ],
      "id": "tw40LBMgM9yO",
      "execution_count": null,
      "outputs": [
        {
          "output_type": "display_data",
          "data": {
            "image/png": "[encoded data removed]",
            "text/plain": [
              "<Figure size 1440x1440 with 12 Axes>"
            ]
          },
          "metadata": {
            "needs_background": "light"
          }
        }
      ]
    },
    {
      "cell_type": "code",
      "source": [
        "import missingno as msno\n",
        "p=msno.bar(d_train_store)"
      ],
      "metadata": {
        "colab": {
          "base_uri": "https://localhost:8080/",
          "height": 621
        },
        "id": "v0SnAGnJQgqJ",
        "outputId": "c672a5ea-159e-4d07-deea-47bdcf82043b"
      },
      "id": "v0SnAGnJQgqJ",
      "execution_count": null,
      "outputs": [
        {
          "output_type": "display_data",
          "data": {
            "image/png": "[encoded data removed]",
            "text/plain": [
              "<Figure size 1800x720 with 3 Axes>"
            ]
          },
          "metadata": {
            "needs_background": "light"
          }
        }
      ]
    },
    {
      "cell_type": "code",
      "source": [
        "d_train_store['CompetitionDistance'].isnull().sum()"
      ],
      "metadata": {
        "colab": {
          "base_uri": "https://localhost:8080/"
        },
        "id": "-6rrM3_83hfC",
        "outputId": "44181487-c60f-45b1-c4e0-c65933f26ba8"
      },
      "id": "-6rrM3_83hfC",
      "execution_count": null,
      "outputs": [
        {
          "output_type": "execute_result",
          "data": {
            "text/plain": [
              "2642"
            ]
          },
          "metadata": {},
          "execution_count": 201
        }
      ]
    },
    {
      "cell_type": "code",
      "source": [
        "d_train_store['CompetitionDistance'].fillna(value=d_train_store['CompetitionDistance'].median(), inplace=True)\n",
        "d_train_store['CompetitionDistance'] = d_train_store['CompetitionDistance'].astype(int)"
      ],
      "metadata": {
        "id": "SxexoEGrpduZ"
      },
      "id": "SxexoEGrpduZ",
      "execution_count": null,
      "outputs": []
    },
    {
      "cell_type": "code",
      "source": [
        "d_test_store['CompetitionDistance'].fillna(value=d_test_store['CompetitionDistance'].median(), inplace=True)\n",
        "d_test_store['CompetitionDistance'] = d_test_store['CompetitionDistance'].astype(int)"
      ],
      "metadata": {
        "id": "XkCo6tVIqttP"
      },
      "id": "XkCo6tVIqttP",
      "execution_count": null,
      "outputs": []
    },
    {
      "cell_type": "markdown",
      "metadata": {
        "id": "yQsO8a7CoQ8y"
      },
      "source": [
        "**Encoding** for store (d_train_store) and (d_test_store)"
      ],
      "id": "yQsO8a7CoQ8y"
    },
    {
      "cell_type": "code",
      "source": [
        "print(d_train_store.shape,d_test_store.shape)"
      ],
      "metadata": {
        "id": "7czdiyBxCJK_",
        "outputId": "45c0b3d9-b6e8-4bbe-a318-999a599f00f7",
        "colab": {
          "base_uri": "https://localhost:8080/"
        }
      },
      "id": "7czdiyBxCJK_",
      "execution_count": null,
      "outputs": [
        {
          "output_type": "stream",
          "name": "stdout",
          "text": [
            "(1017209, 13) (41077, 12)\n"
          ]
        }
      ]
    },
    {
      "cell_type": "code",
      "metadata": {
        "id": "zgYBAwTyky5f"
      },
      "source": [
        "d_train_store = pd.get_dummies(d_train_store, columns=[\"StateHoliday\"])\n",
        "d_train_store = pd.get_dummies(d_train_store, columns=[\"StoreType\"])\n",
        "d_train_store = pd.get_dummies(d_train_store, columns=[\"Assortment\"])\n",
        "d_train_store = pd.get_dummies(d_train_store, columns=[\"Promo\"])\n",
        "d_train_store = pd.get_dummies(d_train_store, columns=[\"Promo2\"])\n",
        "d_train_store = pd.get_dummies(d_train_store, columns=[\"SchoolHoliday\"])\n",
        "\n",
        "d_test_store = pd.get_dummies(d_test_store, columns=[\"StateHoliday\"])\n",
        "d_test_store = pd.get_dummies(d_test_store, columns=[\"StoreType\"])\n",
        "d_test_store = pd.get_dummies(d_test_store, columns=[\"Assortment\"])\n",
        "d_test_store = pd.get_dummies(d_test_store, columns=[\"Promo\"])\n",
        "d_test_store = pd.get_dummies(d_test_store, columns=[\"Promo2\"])\n",
        "d_test_store = pd.get_dummies(d_test_store, columns=[\"SchoolHoliday\"])\n",
        "\n",
        "d_test_store.head"
      ],
      "id": "zgYBAwTyky5f",
      "execution_count": null,
      "outputs": []
    },
    {
      "cell_type": "code",
      "source": [
        "print(d_train_store.shape, d_test_store.shape)"
      ],
      "metadata": {
        "colab": {
          "base_uri": "https://localhost:8080/"
        },
        "id": "QdNqXZnVBh87",
        "outputId": "0a316b8c-9624-4e04-a449-5dcb30b975cb"
      },
      "id": "QdNqXZnVBh87",
      "execution_count": null,
      "outputs": [
        {
          "output_type": "stream",
          "name": "stdout",
          "text": [
            "(1017209, 25) (41077, 21)\n"
          ]
        }
      ]
    },
    {
      "cell_type": "code",
      "source": [
        "d_train_store.isnull().sum()"
      ],
      "metadata": {
        "colab": {
          "base_uri": "https://localhost:8080/"
        },
        "id": "Y1cI_6NTVCM3",
        "outputId": "1f4089b4-2c49-45aa-aaf4-a3312f2d4664"
      },
      "id": "Y1cI_6NTVCM3",
      "execution_count": null,
      "outputs": [
        {
          "output_type": "execute_result",
          "data": {
            "text/plain": [
              "Store                  0\n",
              "DayOfWeek              0\n",
              "Date                   0\n",
              "Sales                  0\n",
              "Customers              0\n",
              "Open                   0\n",
              "CompetitionDistance    0\n",
              "StateHoliday_0         0\n",
              "StateHoliday_0         0\n",
              "StateHoliday_a         0\n",
              "StateHoliday_b         0\n",
              "StateHoliday_c         0\n",
              "StoreType_a            0\n",
              "StoreType_b            0\n",
              "StoreType_c            0\n",
              "StoreType_d            0\n",
              "Assortment_a           0\n",
              "Assortment_b           0\n",
              "Assortment_c           0\n",
              "Promo_0                0\n",
              "Promo_1                0\n",
              "Promo2_0               0\n",
              "Promo2_1               0\n",
              "SchoolHoliday_0        0\n",
              "SchoolHoliday_1        0\n",
              "dtype: int64"
            ]
          },
          "metadata": {},
          "execution_count": 118
        }
      ]
    },
    {
      "cell_type": "code",
      "source": [
        "d_train_store.dtypes"
      ],
      "metadata": {
        "colab": {
          "base_uri": "https://localhost:8080/"
        },
        "id": "P_0lLdGPyPzs",
        "outputId": "e8073527-d60b-4e77-8b19-f03c47820081"
      },
      "id": "P_0lLdGPyPzs",
      "execution_count": null,
      "outputs": [
        {
          "output_type": "execute_result",
          "data": {
            "text/plain": [
              "Store                    int64\n",
              "DayOfWeek                int64\n",
              "Date                   float64\n",
              "Sales                    int64\n",
              "Customers                int64\n",
              "Open                     int64\n",
              "CompetitionDistance      int64\n",
              "StateHoliday_0           uint8\n",
              "StateHoliday_0           uint8\n",
              "StateHoliday_a           uint8\n",
              "StateHoliday_b           uint8\n",
              "StateHoliday_c           uint8\n",
              "StoreType_a              uint8\n",
              "StoreType_b              uint8\n",
              "StoreType_c              uint8\n",
              "StoreType_d              uint8\n",
              "Assortment_a             uint8\n",
              "Assortment_b             uint8\n",
              "Assortment_c             uint8\n",
              "Promo_0                  uint8\n",
              "Promo_1                  uint8\n",
              "Promo2_0                 uint8\n",
              "Promo2_1                 uint8\n",
              "SchoolHoliday_0          uint8\n",
              "SchoolHoliday_1          uint8\n",
              "dtype: object"
            ]
          },
          "metadata": {},
          "execution_count": 119
        }
      ]
    },
    {
      "cell_type": "code",
      "source": [
        "import missingno as msno\n",
        "p=msno.bar(d_train_store)"
      ],
      "metadata": {
        "colab": {
          "base_uri": "https://localhost:8080/",
          "height": 621
        },
        "id": "gOhVc-VEQl_A",
        "outputId": "dbd6038a-f935-4e09-8345-c747a96965ee"
      },
      "id": "gOhVc-VEQl_A",
      "execution_count": null,
      "outputs": [
        {
          "output_type": "display_data",
          "data": {
            "image/png": "[encoded data removed]",
            "text/plain": [
              "<Figure size 1800x720 with 3 Axes>"
            ]
          },
          "metadata": {
            "needs_background": "light"
          }
        }
      ]
    },
    {
      "cell_type": "code",
      "metadata": {
        "colab": {
          "base_uri": "https://localhost:8080/",
          "height": 224
        },
        "id": "VRK65nwrpx_t",
        "outputId": "7fb52d37-eee6-4c99-d669-f519281462ae"
      },
      "source": [
        "d_test_store.head()"
      ],
      "id": "VRK65nwrpx_t",
      "execution_count": null,
      "outputs": [
        {
          "output_type": "execute_result",
          "data": {
            "text/html": [
              "<div>\n",
              "<style scoped>\n",
              "    .dataframe tbody tr th:only-of-type {\n",
              "        vertical-align: middle;\n",
              "    }\n",
              "\n",
              "    .dataframe tbody tr th {\n",
              "        vertical-align: top;\n",
              "    }\n",
              "\n",
              "    .dataframe thead th {\n",
              "        text-align: right;\n",
              "    }\n",
              "</style>\n",
              "<table border=\"1\" class=\"dataframe\">\n",
              "  <thead>\n",
              "    <tr style=\"text-align: right;\">\n",
              "      <th></th>\n",
              "      <th>Id</th>\n",
              "      <th>Store</th>\n",
              "      <th>DayOfWeek</th>\n",
              "      <th>Date</th>\n",
              "      <th>Open</th>\n",
              "      <th>CompetitionDistance</th>\n",
              "      <th>StateHoliday_0</th>\n",
              "      <th>StateHoliday_a</th>\n",
              "      <th>StoreType_a</th>\n",
              "      <th>StoreType_b</th>\n",
              "      <th>StoreType_c</th>\n",
              "      <th>StoreType_d</th>\n",
              "      <th>Assortment_a</th>\n",
              "      <th>Assortment_b</th>\n",
              "      <th>Assortment_c</th>\n",
              "      <th>Promo_0</th>\n",
              "      <th>Promo_1</th>\n",
              "      <th>Promo2_0</th>\n",
              "      <th>Promo2_1</th>\n",
              "      <th>SchoolHoliday_0</th>\n",
              "      <th>SchoolHoliday_1</th>\n",
              "    </tr>\n",
              "  </thead>\n",
              "  <tbody>\n",
              "    <tr>\n",
              "      <th>0</th>\n",
              "      <td>1</td>\n",
              "      <td>1</td>\n",
              "      <td>4</td>\n",
              "      <td>3.559680e+16</td>\n",
              "      <td>1.0</td>\n",
              "      <td>1270</td>\n",
              "      <td>1</td>\n",
              "      <td>0</td>\n",
              "      <td>0</td>\n",
              "      <td>0</td>\n",
              "      <td>1</td>\n",
              "      <td>0</td>\n",
              "      <td>1</td>\n",
              "      <td>0</td>\n",
              "      <td>0</td>\n",
              "      <td>0</td>\n",
              "      <td>1</td>\n",
              "      <td>1</td>\n",
              "      <td>0</td>\n",
              "      <td>1</td>\n",
              "      <td>0</td>\n",
              "    </tr>\n",
              "    <tr>\n",
              "      <th>1</th>\n",
              "      <td>857</td>\n",
              "      <td>1</td>\n",
              "      <td>3</td>\n",
              "      <td>3.551040e+16</td>\n",
              "      <td>1.0</td>\n",
              "      <td>1270</td>\n",
              "      <td>1</td>\n",
              "      <td>0</td>\n",
              "      <td>0</td>\n",
              "      <td>0</td>\n",
              "      <td>1</td>\n",
              "      <td>0</td>\n",
              "      <td>1</td>\n",
              "      <td>0</td>\n",
              "      <td>0</td>\n",
              "      <td>0</td>\n",
              "      <td>1</td>\n",
              "      <td>1</td>\n",
              "      <td>0</td>\n",
              "      <td>1</td>\n",
              "      <td>0</td>\n",
              "    </tr>\n",
              "    <tr>\n",
              "      <th>2</th>\n",
              "      <td>1713</td>\n",
              "      <td>1</td>\n",
              "      <td>2</td>\n",
              "      <td>3.542400e+16</td>\n",
              "      <td>1.0</td>\n",
              "      <td>1270</td>\n",
              "      <td>1</td>\n",
              "      <td>0</td>\n",
              "      <td>0</td>\n",
              "      <td>0</td>\n",
              "      <td>1</td>\n",
              "      <td>0</td>\n",
              "      <td>1</td>\n",
              "      <td>0</td>\n",
              "      <td>0</td>\n",
              "      <td>0</td>\n",
              "      <td>1</td>\n",
              "      <td>1</td>\n",
              "      <td>0</td>\n",
              "      <td>1</td>\n",
              "      <td>0</td>\n",
              "    </tr>\n",
              "    <tr>\n",
              "      <th>3</th>\n",
              "      <td>2569</td>\n",
              "      <td>1</td>\n",
              "      <td>1</td>\n",
              "      <td>3.533760e+16</td>\n",
              "      <td>1.0</td>\n",
              "      <td>1270</td>\n",
              "      <td>1</td>\n",
              "      <td>0</td>\n",
              "      <td>0</td>\n",
              "      <td>0</td>\n",
              "      <td>1</td>\n",
              "      <td>0</td>\n",
              "      <td>1</td>\n",
              "      <td>0</td>\n",
              "      <td>0</td>\n",
              "      <td>0</td>\n",
              "      <td>1</td>\n",
              "      <td>1</td>\n",
              "      <td>0</td>\n",
              "      <td>1</td>\n",
              "      <td>0</td>\n",
              "    </tr>\n",
              "    <tr>\n",
              "      <th>4</th>\n",
              "      <td>3425</td>\n",
              "      <td>1</td>\n",
              "      <td>7</td>\n",
              "      <td>3.525120e+16</td>\n",
              "      <td>0.0</td>\n",
              "      <td>1270</td>\n",
              "      <td>1</td>\n",
              "      <td>0</td>\n",
              "      <td>0</td>\n",
              "      <td>0</td>\n",
              "      <td>1</td>\n",
              "      <td>0</td>\n",
              "      <td>1</td>\n",
              "      <td>0</td>\n",
              "      <td>0</td>\n",
              "      <td>1</td>\n",
              "      <td>0</td>\n",
              "      <td>1</td>\n",
              "      <td>0</td>\n",
              "      <td>1</td>\n",
              "      <td>0</td>\n",
              "    </tr>\n",
              "  </tbody>\n",
              "</table>\n",
              "</div>"
            ],
            "text/plain": [
              "     Id  Store  DayOfWeek          Date  Open  CompetitionDistance  \\\n",
              "0     1      1          4  3.559680e+16   1.0                 1270   \n",
              "1   857      1          3  3.551040e+16   1.0                 1270   \n",
              "2  1713      1          2  3.542400e+16   1.0                 1270   \n",
              "3  2569      1          1  3.533760e+16   1.0                 1270   \n",
              "4  3425      1          7  3.525120e+16   0.0                 1270   \n",
              "\n",
              "   StateHoliday_0  StateHoliday_a  StoreType_a  StoreType_b  StoreType_c  \\\n",
              "0               1               0            0            0            1   \n",
              "1               1               0            0            0            1   \n",
              "2               1               0            0            0            1   \n",
              "3               1               0            0            0            1   \n",
              "4               1               0            0            0            1   \n",
              "\n",
              "   StoreType_d  Assortment_a  Assortment_b  Assortment_c  Promo_0  Promo_1  \\\n",
              "0            0             1             0             0        0        1   \n",
              "1            0             1             0             0        0        1   \n",
              "2            0             1             0             0        0        1   \n",
              "3            0             1             0             0        0        1   \n",
              "4            0             1             0             0        1        0   \n",
              "\n",
              "   Promo2_0  Promo2_1  SchoolHoliday_0  SchoolHoliday_1  \n",
              "0         1         0                1                0  \n",
              "1         1         0                1                0  \n",
              "2         1         0                1                0  \n",
              "3         1         0                1                0  \n",
              "4         1         0                1                0  "
            ]
          },
          "metadata": {},
          "execution_count": 121
        }
      ]
    },
    {
      "cell_type": "code",
      "source": [
        "d_train_store['Store'].nunique()\n"
      ],
      "metadata": {
        "id": "tU8SehD5tY55",
        "colab": {
          "base_uri": "https://localhost:8080/"
        },
        "outputId": "d9296d13-4faf-4bd6-ea73-1004268d1ea4"
      },
      "id": "tU8SehD5tY55",
      "execution_count": null,
      "outputs": [
        {
          "output_type": "execute_result",
          "data": {
            "text/plain": [
              "1115"
            ]
          },
          "metadata": {},
          "execution_count": 122
        }
      ]
    },
    {
      "cell_type": "code",
      "source": [
        "d_train_store.tail()"
      ],
      "metadata": {
        "colab": {
          "base_uri": "https://localhost:8080/",
          "height": 224
        },
        "id": "D18XkA52tpIQ",
        "outputId": "f4bad4e4-f3f3-48a7-a20d-a142971726f2"
      },
      "id": "D18XkA52tpIQ",
      "execution_count": null,
      "outputs": [
        {
          "output_type": "execute_result",
          "data": {
            "text/html": [
              "<div>\n",
              "<style scoped>\n",
              "    .dataframe tbody tr th:only-of-type {\n",
              "        vertical-align: middle;\n",
              "    }\n",
              "\n",
              "    .dataframe tbody tr th {\n",
              "        vertical-align: top;\n",
              "    }\n",
              "\n",
              "    .dataframe thead th {\n",
              "        text-align: right;\n",
              "    }\n",
              "</style>\n",
              "<table border=\"1\" class=\"dataframe\">\n",
              "  <thead>\n",
              "    <tr style=\"text-align: right;\">\n",
              "      <th></th>\n",
              "      <th>Store</th>\n",
              "      <th>DayOfWeek</th>\n",
              "      <th>Date</th>\n",
              "      <th>Sales</th>\n",
              "      <th>Customers</th>\n",
              "      <th>Open</th>\n",
              "      <th>CompetitionDistance</th>\n",
              "      <th>StateHoliday_0</th>\n",
              "      <th>StateHoliday_0</th>\n",
              "      <th>StateHoliday_a</th>\n",
              "      <th>StateHoliday_b</th>\n",
              "      <th>StateHoliday_c</th>\n",
              "      <th>StoreType_a</th>\n",
              "      <th>StoreType_b</th>\n",
              "      <th>StoreType_c</th>\n",
              "      <th>StoreType_d</th>\n",
              "      <th>Assortment_a</th>\n",
              "      <th>Assortment_b</th>\n",
              "      <th>Assortment_c</th>\n",
              "      <th>Promo_0</th>\n",
              "      <th>Promo_1</th>\n",
              "      <th>Promo2_0</th>\n",
              "      <th>Promo2_1</th>\n",
              "      <th>SchoolHoliday_0</th>\n",
              "      <th>SchoolHoliday_1</th>\n",
              "    </tr>\n",
              "  </thead>\n",
              "  <tbody>\n",
              "    <tr>\n",
              "      <th>1017204</th>\n",
              "      <td>1115</td>\n",
              "      <td>6</td>\n",
              "      <td>-4.950720e+16</td>\n",
              "      <td>4771</td>\n",
              "      <td>339</td>\n",
              "      <td>1</td>\n",
              "      <td>5350</td>\n",
              "      <td>0</td>\n",
              "      <td>1</td>\n",
              "      <td>0</td>\n",
              "      <td>0</td>\n",
              "      <td>0</td>\n",
              "      <td>0</td>\n",
              "      <td>0</td>\n",
              "      <td>0</td>\n",
              "      <td>1</td>\n",
              "      <td>0</td>\n",
              "      <td>0</td>\n",
              "      <td>1</td>\n",
              "      <td>1</td>\n",
              "      <td>0</td>\n",
              "      <td>0</td>\n",
              "      <td>1</td>\n",
              "      <td>0</td>\n",
              "      <td>1</td>\n",
              "    </tr>\n",
              "    <tr>\n",
              "      <th>1017205</th>\n",
              "      <td>1115</td>\n",
              "      <td>5</td>\n",
              "      <td>-4.959360e+16</td>\n",
              "      <td>4540</td>\n",
              "      <td>326</td>\n",
              "      <td>1</td>\n",
              "      <td>5350</td>\n",
              "      <td>0</td>\n",
              "      <td>1</td>\n",
              "      <td>0</td>\n",
              "      <td>0</td>\n",
              "      <td>0</td>\n",
              "      <td>0</td>\n",
              "      <td>0</td>\n",
              "      <td>0</td>\n",
              "      <td>1</td>\n",
              "      <td>0</td>\n",
              "      <td>0</td>\n",
              "      <td>1</td>\n",
              "      <td>1</td>\n",
              "      <td>0</td>\n",
              "      <td>0</td>\n",
              "      <td>1</td>\n",
              "      <td>0</td>\n",
              "      <td>1</td>\n",
              "    </tr>\n",
              "    <tr>\n",
              "      <th>1017206</th>\n",
              "      <td>1115</td>\n",
              "      <td>4</td>\n",
              "      <td>-4.968000e+16</td>\n",
              "      <td>4297</td>\n",
              "      <td>300</td>\n",
              "      <td>1</td>\n",
              "      <td>5350</td>\n",
              "      <td>0</td>\n",
              "      <td>1</td>\n",
              "      <td>0</td>\n",
              "      <td>0</td>\n",
              "      <td>0</td>\n",
              "      <td>0</td>\n",
              "      <td>0</td>\n",
              "      <td>0</td>\n",
              "      <td>1</td>\n",
              "      <td>0</td>\n",
              "      <td>0</td>\n",
              "      <td>1</td>\n",
              "      <td>1</td>\n",
              "      <td>0</td>\n",
              "      <td>0</td>\n",
              "      <td>1</td>\n",
              "      <td>0</td>\n",
              "      <td>1</td>\n",
              "    </tr>\n",
              "    <tr>\n",
              "      <th>1017207</th>\n",
              "      <td>1115</td>\n",
              "      <td>3</td>\n",
              "      <td>-4.976640e+16</td>\n",
              "      <td>3697</td>\n",
              "      <td>305</td>\n",
              "      <td>1</td>\n",
              "      <td>5350</td>\n",
              "      <td>0</td>\n",
              "      <td>1</td>\n",
              "      <td>0</td>\n",
              "      <td>0</td>\n",
              "      <td>0</td>\n",
              "      <td>0</td>\n",
              "      <td>0</td>\n",
              "      <td>0</td>\n",
              "      <td>1</td>\n",
              "      <td>0</td>\n",
              "      <td>0</td>\n",
              "      <td>1</td>\n",
              "      <td>1</td>\n",
              "      <td>0</td>\n",
              "      <td>0</td>\n",
              "      <td>1</td>\n",
              "      <td>0</td>\n",
              "      <td>1</td>\n",
              "    </tr>\n",
              "    <tr>\n",
              "      <th>1017208</th>\n",
              "      <td>1115</td>\n",
              "      <td>2</td>\n",
              "      <td>-4.985280e+16</td>\n",
              "      <td>0</td>\n",
              "      <td>0</td>\n",
              "      <td>0</td>\n",
              "      <td>5350</td>\n",
              "      <td>0</td>\n",
              "      <td>0</td>\n",
              "      <td>1</td>\n",
              "      <td>0</td>\n",
              "      <td>0</td>\n",
              "      <td>0</td>\n",
              "      <td>0</td>\n",
              "      <td>0</td>\n",
              "      <td>1</td>\n",
              "      <td>0</td>\n",
              "      <td>0</td>\n",
              "      <td>1</td>\n",
              "      <td>1</td>\n",
              "      <td>0</td>\n",
              "      <td>0</td>\n",
              "      <td>1</td>\n",
              "      <td>0</td>\n",
              "      <td>1</td>\n",
              "    </tr>\n",
              "  </tbody>\n",
              "</table>\n",
              "</div>"
            ],
            "text/plain": [
              "         Store  DayOfWeek          Date  Sales  Customers  Open  \\\n",
              "1017204   1115          6 -4.950720e+16   4771        339     1   \n",
              "1017205   1115          5 -4.959360e+16   4540        326     1   \n",
              "1017206   1115          4 -4.968000e+16   4297        300     1   \n",
              "1017207   1115          3 -4.976640e+16   3697        305     1   \n",
              "1017208   1115          2 -4.985280e+16      0          0     0   \n",
              "\n",
              "         CompetitionDistance  StateHoliday_0  StateHoliday_0  StateHoliday_a  \\\n",
              "1017204                 5350               0               1               0   \n",
              "1017205                 5350               0               1               0   \n",
              "1017206                 5350               0               1               0   \n",
              "1017207                 5350               0               1               0   \n",
              "1017208                 5350               0               0               1   \n",
              "\n",
              "         StateHoliday_b  StateHoliday_c  StoreType_a  StoreType_b  \\\n",
              "1017204               0               0            0            0   \n",
              "1017205               0               0            0            0   \n",
              "1017206               0               0            0            0   \n",
              "1017207               0               0            0            0   \n",
              "1017208               0               0            0            0   \n",
              "\n",
              "         StoreType_c  StoreType_d  Assortment_a  Assortment_b  Assortment_c  \\\n",
              "1017204            0            1             0             0             1   \n",
              "1017205            0            1             0             0             1   \n",
              "1017206            0            1             0             0             1   \n",
              "1017207            0            1             0             0             1   \n",
              "1017208            0            1             0             0             1   \n",
              "\n",
              "         Promo_0  Promo_1  Promo2_0  Promo2_1  SchoolHoliday_0  \\\n",
              "1017204        1        0         0         1                0   \n",
              "1017205        1        0         0         1                0   \n",
              "1017206        1        0         0         1                0   \n",
              "1017207        1        0         0         1                0   \n",
              "1017208        1        0         0         1                0   \n",
              "\n",
              "         SchoolHoliday_1  \n",
              "1017204                1  \n",
              "1017205                1  \n",
              "1017206                1  \n",
              "1017207                1  \n",
              "1017208                1  "
            ]
          },
          "metadata": {},
          "execution_count": 123
        }
      ]
    },
    {
      "cell_type": "code",
      "source": [
        "salesMax = d_train_store['Sales'].max()\n",
        "salesMin = d_train_store['Sales'].min()\n",
        "d_train_store['Sales'] = (d_train_store['Sales'] - d_train_store['Sales'].min())/(d_train_store['Sales'].max() - d_train_store['Sales'].min())\n",
        "customersMax = d_train_store['Customers'].max()\n",
        "customersMin =  d_train_store['Customers'].min()\n",
        "d_train_store['Customers'] = (d_train_store['Customers'] - d_train_store['Customers'].min())/(d_train_store['Customers'].max()-d_train_store['Customers'].min())\n",
        "compDistMax = d_train_store['CompetitionDistance'].max()\n",
        "compDistMin =  d_train_store['CompetitionDistance'].min()\n",
        "d_train_store['CompetitionDistance'] = (d_train_store['CompetitionDistance']-d_train_store['CompetitionDistance'].min())/(d_train_store['CompetitionDistance'].max()-d_train_store['CompetitionDistance'].min())\n",
        "\n",
        "d_train_store.head()"
      ],
      "metadata": {
        "colab": {
          "base_uri": "https://localhost:8080/",
          "height": 224
        },
        "id": "O1eXK00X0w6N",
        "outputId": "e1d259f1-1ff1-4844-d4cc-3ad722e02d15"
      },
      "id": "O1eXK00X0w6N",
      "execution_count": null,
      "outputs": [
        {
          "output_type": "execute_result",
          "data": {
            "text/html": [
              "<div>\n",
              "<style scoped>\n",
              "    .dataframe tbody tr th:only-of-type {\n",
              "        vertical-align: middle;\n",
              "    }\n",
              "\n",
              "    .dataframe tbody tr th {\n",
              "        vertical-align: top;\n",
              "    }\n",
              "\n",
              "    .dataframe thead th {\n",
              "        text-align: right;\n",
              "    }\n",
              "</style>\n",
              "<table border=\"1\" class=\"dataframe\">\n",
              "  <thead>\n",
              "    <tr style=\"text-align: right;\">\n",
              "      <th></th>\n",
              "      <th>Store</th>\n",
              "      <th>DayOfWeek</th>\n",
              "      <th>Date</th>\n",
              "      <th>Sales</th>\n",
              "      <th>Customers</th>\n",
              "      <th>Open</th>\n",
              "      <th>CompetitionDistance</th>\n",
              "      <th>StateHoliday_0</th>\n",
              "      <th>StateHoliday_0</th>\n",
              "      <th>StateHoliday_a</th>\n",
              "      <th>StateHoliday_b</th>\n",
              "      <th>StateHoliday_c</th>\n",
              "      <th>StoreType_a</th>\n",
              "      <th>StoreType_b</th>\n",
              "      <th>StoreType_c</th>\n",
              "      <th>StoreType_d</th>\n",
              "      <th>Assortment_a</th>\n",
              "      <th>Assortment_b</th>\n",
              "      <th>Assortment_c</th>\n",
              "      <th>Promo_0</th>\n",
              "      <th>Promo_1</th>\n",
              "      <th>Promo2_0</th>\n",
              "      <th>Promo2_1</th>\n",
              "      <th>SchoolHoliday_0</th>\n",
              "      <th>SchoolHoliday_1</th>\n",
              "    </tr>\n",
              "  </thead>\n",
              "  <tbody>\n",
              "    <tr>\n",
              "      <th>0</th>\n",
              "      <td>1</td>\n",
              "      <td>5</td>\n",
              "      <td>3.144960e+16</td>\n",
              "      <td>0.126664</td>\n",
              "      <td>0.075122</td>\n",
              "      <td>1</td>\n",
              "      <td>0.016482</td>\n",
              "      <td>0</td>\n",
              "      <td>1</td>\n",
              "      <td>0</td>\n",
              "      <td>0</td>\n",
              "      <td>0</td>\n",
              "      <td>0</td>\n",
              "      <td>0</td>\n",
              "      <td>1</td>\n",
              "      <td>0</td>\n",
              "      <td>1</td>\n",
              "      <td>0</td>\n",
              "      <td>0</td>\n",
              "      <td>0</td>\n",
              "      <td>1</td>\n",
              "      <td>1</td>\n",
              "      <td>0</td>\n",
              "      <td>0</td>\n",
              "      <td>1</td>\n",
              "    </tr>\n",
              "    <tr>\n",
              "      <th>1</th>\n",
              "      <td>1</td>\n",
              "      <td>4</td>\n",
              "      <td>3.136320e+16</td>\n",
              "      <td>0.120815</td>\n",
              "      <td>0.073904</td>\n",
              "      <td>1</td>\n",
              "      <td>0.016482</td>\n",
              "      <td>0</td>\n",
              "      <td>1</td>\n",
              "      <td>0</td>\n",
              "      <td>0</td>\n",
              "      <td>0</td>\n",
              "      <td>0</td>\n",
              "      <td>0</td>\n",
              "      <td>1</td>\n",
              "      <td>0</td>\n",
              "      <td>1</td>\n",
              "      <td>0</td>\n",
              "      <td>0</td>\n",
              "      <td>0</td>\n",
              "      <td>1</td>\n",
              "      <td>1</td>\n",
              "      <td>0</td>\n",
              "      <td>0</td>\n",
              "      <td>1</td>\n",
              "    </tr>\n",
              "    <tr>\n",
              "      <th>2</th>\n",
              "      <td>1</td>\n",
              "      <td>3</td>\n",
              "      <td>3.127680e+16</td>\n",
              "      <td>0.115087</td>\n",
              "      <td>0.070790</td>\n",
              "      <td>1</td>\n",
              "      <td>0.016482</td>\n",
              "      <td>0</td>\n",
              "      <td>1</td>\n",
              "      <td>0</td>\n",
              "      <td>0</td>\n",
              "      <td>0</td>\n",
              "      <td>0</td>\n",
              "      <td>0</td>\n",
              "      <td>1</td>\n",
              "      <td>0</td>\n",
              "      <td>1</td>\n",
              "      <td>0</td>\n",
              "      <td>0</td>\n",
              "      <td>0</td>\n",
              "      <td>1</td>\n",
              "      <td>1</td>\n",
              "      <td>0</td>\n",
              "      <td>0</td>\n",
              "      <td>1</td>\n",
              "    </tr>\n",
              "    <tr>\n",
              "      <th>3</th>\n",
              "      <td>1</td>\n",
              "      <td>2</td>\n",
              "      <td>3.119040e+16</td>\n",
              "      <td>0.120599</td>\n",
              "      <td>0.075799</td>\n",
              "      <td>1</td>\n",
              "      <td>0.016482</td>\n",
              "      <td>0</td>\n",
              "      <td>1</td>\n",
              "      <td>0</td>\n",
              "      <td>0</td>\n",
              "      <td>0</td>\n",
              "      <td>0</td>\n",
              "      <td>0</td>\n",
              "      <td>1</td>\n",
              "      <td>0</td>\n",
              "      <td>1</td>\n",
              "      <td>0</td>\n",
              "      <td>0</td>\n",
              "      <td>0</td>\n",
              "      <td>1</td>\n",
              "      <td>1</td>\n",
              "      <td>0</td>\n",
              "      <td>0</td>\n",
              "      <td>1</td>\n",
              "    </tr>\n",
              "    <tr>\n",
              "      <th>4</th>\n",
              "      <td>1</td>\n",
              "      <td>1</td>\n",
              "      <td>3.110400e+16</td>\n",
              "      <td>0.146856</td>\n",
              "      <td>0.082837</td>\n",
              "      <td>1</td>\n",
              "      <td>0.016482</td>\n",
              "      <td>0</td>\n",
              "      <td>1</td>\n",
              "      <td>0</td>\n",
              "      <td>0</td>\n",
              "      <td>0</td>\n",
              "      <td>0</td>\n",
              "      <td>0</td>\n",
              "      <td>1</td>\n",
              "      <td>0</td>\n",
              "      <td>1</td>\n",
              "      <td>0</td>\n",
              "      <td>0</td>\n",
              "      <td>0</td>\n",
              "      <td>1</td>\n",
              "      <td>1</td>\n",
              "      <td>0</td>\n",
              "      <td>0</td>\n",
              "      <td>1</td>\n",
              "    </tr>\n",
              "  </tbody>\n",
              "</table>\n",
              "</div>"
            ],
            "text/plain": [
              "   Store  DayOfWeek          Date     Sales  Customers  Open  \\\n",
              "0      1          5  3.144960e+16  0.126664   0.075122     1   \n",
              "1      1          4  3.136320e+16  0.120815   0.073904     1   \n",
              "2      1          3  3.127680e+16  0.115087   0.070790     1   \n",
              "3      1          2  3.119040e+16  0.120599   0.075799     1   \n",
              "4      1          1  3.110400e+16  0.146856   0.082837     1   \n",
              "\n",
              "   CompetitionDistance  StateHoliday_0  StateHoliday_0  StateHoliday_a  \\\n",
              "0             0.016482               0               1               0   \n",
              "1             0.016482               0               1               0   \n",
              "2             0.016482               0               1               0   \n",
              "3             0.016482               0               1               0   \n",
              "4             0.016482               0               1               0   \n",
              "\n",
              "   StateHoliday_b  StateHoliday_c  StoreType_a  StoreType_b  StoreType_c  \\\n",
              "0               0               0            0            0            1   \n",
              "1               0               0            0            0            1   \n",
              "2               0               0            0            0            1   \n",
              "3               0               0            0            0            1   \n",
              "4               0               0            0            0            1   \n",
              "\n",
              "   StoreType_d  Assortment_a  Assortment_b  Assortment_c  Promo_0  Promo_1  \\\n",
              "0            0             1             0             0        0        1   \n",
              "1            0             1             0             0        0        1   \n",
              "2            0             1             0             0        0        1   \n",
              "3            0             1             0             0        0        1   \n",
              "4            0             1             0             0        0        1   \n",
              "\n",
              "   Promo2_0  Promo2_1  SchoolHoliday_0  SchoolHoliday_1  \n",
              "0         1         0                0                1  \n",
              "1         1         0                0                1  \n",
              "2         1         0                0                1  \n",
              "3         1         0                0                1  \n",
              "4         1         0                0                1  "
            ]
          },
          "metadata": {},
          "execution_count": 124
        }
      ]
    },
    {
      "cell_type": "code",
      "source": [
        "d_test_store.head()"
      ],
      "metadata": {
        "colab": {
          "base_uri": "https://localhost:8080/",
          "height": 224
        },
        "id": "Ll4Swb2y3R8Q",
        "outputId": "30ccbd12-2b20-48a9-c318-9c99cb04ff2c"
      },
      "id": "Ll4Swb2y3R8Q",
      "execution_count": null,
      "outputs": [
        {
          "output_type": "execute_result",
          "data": {
            "text/html": [
              "<div>\n",
              "<style scoped>\n",
              "    .dataframe tbody tr th:only-of-type {\n",
              "        vertical-align: middle;\n",
              "    }\n",
              "\n",
              "    .dataframe tbody tr th {\n",
              "        vertical-align: top;\n",
              "    }\n",
              "\n",
              "    .dataframe thead th {\n",
              "        text-align: right;\n",
              "    }\n",
              "</style>\n",
              "<table border=\"1\" class=\"dataframe\">\n",
              "  <thead>\n",
              "    <tr style=\"text-align: right;\">\n",
              "      <th></th>\n",
              "      <th>Id</th>\n",
              "      <th>Store</th>\n",
              "      <th>DayOfWeek</th>\n",
              "      <th>Date</th>\n",
              "      <th>Open</th>\n",
              "      <th>CompetitionDistance</th>\n",
              "      <th>StateHoliday_0</th>\n",
              "      <th>StateHoliday_a</th>\n",
              "      <th>StoreType_a</th>\n",
              "      <th>StoreType_b</th>\n",
              "      <th>StoreType_c</th>\n",
              "      <th>StoreType_d</th>\n",
              "      <th>Assortment_a</th>\n",
              "      <th>Assortment_b</th>\n",
              "      <th>Assortment_c</th>\n",
              "      <th>Promo_0</th>\n",
              "      <th>Promo_1</th>\n",
              "      <th>Promo2_0</th>\n",
              "      <th>Promo2_1</th>\n",
              "      <th>SchoolHoliday_0</th>\n",
              "      <th>SchoolHoliday_1</th>\n",
              "    </tr>\n",
              "  </thead>\n",
              "  <tbody>\n",
              "    <tr>\n",
              "      <th>0</th>\n",
              "      <td>1</td>\n",
              "      <td>1</td>\n",
              "      <td>4</td>\n",
              "      <td>3.559680e+16</td>\n",
              "      <td>1.0</td>\n",
              "      <td>1270</td>\n",
              "      <td>1</td>\n",
              "      <td>0</td>\n",
              "      <td>0</td>\n",
              "      <td>0</td>\n",
              "      <td>1</td>\n",
              "      <td>0</td>\n",
              "      <td>1</td>\n",
              "      <td>0</td>\n",
              "      <td>0</td>\n",
              "      <td>0</td>\n",
              "      <td>1</td>\n",
              "      <td>1</td>\n",
              "      <td>0</td>\n",
              "      <td>1</td>\n",
              "      <td>0</td>\n",
              "    </tr>\n",
              "    <tr>\n",
              "      <th>1</th>\n",
              "      <td>857</td>\n",
              "      <td>1</td>\n",
              "      <td>3</td>\n",
              "      <td>3.551040e+16</td>\n",
              "      <td>1.0</td>\n",
              "      <td>1270</td>\n",
              "      <td>1</td>\n",
              "      <td>0</td>\n",
              "      <td>0</td>\n",
              "      <td>0</td>\n",
              "      <td>1</td>\n",
              "      <td>0</td>\n",
              "      <td>1</td>\n",
              "      <td>0</td>\n",
              "      <td>0</td>\n",
              "      <td>0</td>\n",
              "      <td>1</td>\n",
              "      <td>1</td>\n",
              "      <td>0</td>\n",
              "      <td>1</td>\n",
              "      <td>0</td>\n",
              "    </tr>\n",
              "    <tr>\n",
              "      <th>2</th>\n",
              "      <td>1713</td>\n",
              "      <td>1</td>\n",
              "      <td>2</td>\n",
              "      <td>3.542400e+16</td>\n",
              "      <td>1.0</td>\n",
              "      <td>1270</td>\n",
              "      <td>1</td>\n",
              "      <td>0</td>\n",
              "      <td>0</td>\n",
              "      <td>0</td>\n",
              "      <td>1</td>\n",
              "      <td>0</td>\n",
              "      <td>1</td>\n",
              "      <td>0</td>\n",
              "      <td>0</td>\n",
              "      <td>0</td>\n",
              "      <td>1</td>\n",
              "      <td>1</td>\n",
              "      <td>0</td>\n",
              "      <td>1</td>\n",
              "      <td>0</td>\n",
              "    </tr>\n",
              "    <tr>\n",
              "      <th>3</th>\n",
              "      <td>2569</td>\n",
              "      <td>1</td>\n",
              "      <td>1</td>\n",
              "      <td>3.533760e+16</td>\n",
              "      <td>1.0</td>\n",
              "      <td>1270</td>\n",
              "      <td>1</td>\n",
              "      <td>0</td>\n",
              "      <td>0</td>\n",
              "      <td>0</td>\n",
              "      <td>1</td>\n",
              "      <td>0</td>\n",
              "      <td>1</td>\n",
              "      <td>0</td>\n",
              "      <td>0</td>\n",
              "      <td>0</td>\n",
              "      <td>1</td>\n",
              "      <td>1</td>\n",
              "      <td>0</td>\n",
              "      <td>1</td>\n",
              "      <td>0</td>\n",
              "    </tr>\n",
              "    <tr>\n",
              "      <th>4</th>\n",
              "      <td>3425</td>\n",
              "      <td>1</td>\n",
              "      <td>7</td>\n",
              "      <td>3.525120e+16</td>\n",
              "      <td>0.0</td>\n",
              "      <td>1270</td>\n",
              "      <td>1</td>\n",
              "      <td>0</td>\n",
              "      <td>0</td>\n",
              "      <td>0</td>\n",
              "      <td>1</td>\n",
              "      <td>0</td>\n",
              "      <td>1</td>\n",
              "      <td>0</td>\n",
              "      <td>0</td>\n",
              "      <td>1</td>\n",
              "      <td>0</td>\n",
              "      <td>1</td>\n",
              "      <td>0</td>\n",
              "      <td>1</td>\n",
              "      <td>0</td>\n",
              "    </tr>\n",
              "  </tbody>\n",
              "</table>\n",
              "</div>"
            ],
            "text/plain": [
              "     Id  Store  DayOfWeek          Date  Open  CompetitionDistance  \\\n",
              "0     1      1          4  3.559680e+16   1.0                 1270   \n",
              "1   857      1          3  3.551040e+16   1.0                 1270   \n",
              "2  1713      1          2  3.542400e+16   1.0                 1270   \n",
              "3  2569      1          1  3.533760e+16   1.0                 1270   \n",
              "4  3425      1          7  3.525120e+16   0.0                 1270   \n",
              "\n",
              "   StateHoliday_0  StateHoliday_a  StoreType_a  StoreType_b  StoreType_c  \\\n",
              "0               1               0            0            0            1   \n",
              "1               1               0            0            0            1   \n",
              "2               1               0            0            0            1   \n",
              "3               1               0            0            0            1   \n",
              "4               1               0            0            0            1   \n",
              "\n",
              "   StoreType_d  Assortment_a  Assortment_b  Assortment_c  Promo_0  Promo_1  \\\n",
              "0            0             1             0             0        0        1   \n",
              "1            0             1             0             0        0        1   \n",
              "2            0             1             0             0        0        1   \n",
              "3            0             1             0             0        0        1   \n",
              "4            0             1             0             0        1        0   \n",
              "\n",
              "   Promo2_0  Promo2_1  SchoolHoliday_0  SchoolHoliday_1  \n",
              "0         1         0                1                0  \n",
              "1         1         0                1                0  \n",
              "2         1         0                1                0  \n",
              "3         1         0                1                0  \n",
              "4         1         0                1                0  "
            ]
          },
          "metadata": {},
          "execution_count": 125
        }
      ]
    },
    {
      "cell_type": "code",
      "source": [
        "compDistMax = d_test_store['CompetitionDistance'].max()\n",
        "compDistMin =  d_test_store['CompetitionDistance'].min()\n",
        "d_test_store['CompetitionDistance'] = (d_test_store['CompetitionDistance']-d_test_store['CompetitionDistance'].min())/(d_test_store['CompetitionDistance'].max()-d_test_store['CompetitionDistance'].min())\n",
        "\n",
        "print(d_test_store.info(),d_train_store.info())"
      ],
      "metadata": {
        "colab": {
          "base_uri": "https://localhost:8080/"
        },
        "id": "cwxRApVS3ENG",
        "outputId": "1bdf366a-5f41-4c31-8bd4-b7366e25d71f"
      },
      "id": "cwxRApVS3ENG",
      "execution_count": null,
      "outputs": [
        {
          "output_type": "stream",
          "name": "stdout",
          "text": [
            "<class 'pandas.core.frame.DataFrame'>\n",
            "Int64Index: 41077 entries, 0 to 41076\n",
            "Data columns (total 21 columns):\n",
            " #   Column               Non-Null Count  Dtype  \n",
            "---  ------               --------------  -----  \n",
            " 0   Id                   41077 non-null  int64  \n",
            " 1   Store                41077 non-null  int64  \n",
            " 2   DayOfWeek            41077 non-null  int64  \n",
            " 3   Date                 41077 non-null  float64\n",
            " 4   Open                 41077 non-null  float64\n",
            " 5   CompetitionDistance  41077 non-null  float64\n",
            " 6   StateHoliday_0       41077 non-null  uint8  \n",
            " 7   StateHoliday_a       41077 non-null  uint8  \n",
            " 8   StoreType_a          41077 non-null  uint8  \n",
            " 9   StoreType_b          41077 non-null  uint8  \n",
            " 10  StoreType_c          41077 non-null  uint8  \n",
            " 11  StoreType_d          41077 non-null  uint8  \n",
            " 12  Assortment_a         41077 non-null  uint8  \n",
            " 13  Assortment_b         41077 non-null  uint8  \n",
            " 14  Assortment_c         41077 non-null  uint8  \n",
            " 15  Promo_0              41077 non-null  uint8  \n",
            " 16  Promo_1              41077 non-null  uint8  \n",
            " 17  Promo2_0             41077 non-null  uint8  \n",
            " 18  Promo2_1             41077 non-null  uint8  \n",
            " 19  SchoolHoliday_0      41077 non-null  uint8  \n",
            " 20  SchoolHoliday_1      41077 non-null  uint8  \n",
            "dtypes: float64(3), int64(3), uint8(15)\n",
            "memory usage: 2.8 MB\n",
            "<class 'pandas.core.frame.DataFrame'>\n",
            "Int64Index: 1017209 entries, 0 to 1017208\n",
            "Data columns (total 24 columns):\n",
            " #   Column               Non-Null Count    Dtype  \n",
            "---  ------               --------------    -----  \n",
            " 0   Store                1017209 non-null  int64  \n",
            " 1   DayOfWeek            1017209 non-null  int64  \n",
            " 2   Date                 1017209 non-null  float64\n",
            " 3   Customers            1017209 non-null  float64\n",
            " 4   Open                 1017209 non-null  int64  \n",
            " 5   CompetitionDistance  1017209 non-null  float64\n",
            " 6   StateHoliday_0       1017209 non-null  uint8  \n",
            " 7   StateHoliday_0       1017209 non-null  uint8  \n",
            " 8   StateHoliday_a       1017209 non-null  uint8  \n",
            " 9   StateHoliday_b       1017209 non-null  uint8  \n",
            " 10  StateHoliday_c       1017209 non-null  uint8  \n",
            " 11  StoreType_a          1017209 non-null  uint8  \n",
            " 12  StoreType_b          1017209 non-null  uint8  \n",
            " 13  StoreType_c          1017209 non-null  uint8  \n",
            " 14  StoreType_d          1017209 non-null  uint8  \n",
            " 15  Assortment_a         1017209 non-null  uint8  \n",
            " 16  Assortment_b         1017209 non-null  uint8  \n",
            " 17  Assortment_c         1017209 non-null  uint8  \n",
            " 18  Promo_0              1017209 non-null  uint8  \n",
            " 19  Promo_1              1017209 non-null  uint8  \n",
            " 20  Promo2_0             1017209 non-null  uint8  \n",
            " 21  Promo2_1             1017209 non-null  uint8  \n",
            " 22  SchoolHoliday_0      1017209 non-null  uint8  \n",
            " 23  SchoolHoliday_1      1017209 non-null  uint8  \n",
            "dtypes: float64(3), int64(3), uint8(18)\n",
            "memory usage: 71.8 MB\n",
            "None None\n"
          ]
        }
      ]
    },
    {
      "cell_type": "code",
      "source": [
        "d__store.info()"
      ],
      "metadata": {
        "colab": {
          "base_uri": "https://localhost:8080/"
        },
        "id": "yQlHUZLeJUn_",
        "outputId": "b06f18af-8abf-484d-e6af-2bc3da7c2b37"
      },
      "id": "yQlHUZLeJUn_",
      "execution_count": null,
      "outputs": [
        {
          "output_type": "stream",
          "name": "stdout",
          "text": [
            "<class 'pandas.core.frame.DataFrame'>\n",
            "Int64Index: 41077 entries, 0 to 41076\n",
            "Data columns (total 21 columns):\n",
            " #   Column               Non-Null Count  Dtype  \n",
            "---  ------               --------------  -----  \n",
            " 0   Id                   41077 non-null  int64  \n",
            " 1   Store                41077 non-null  int64  \n",
            " 2   DayOfWeek            41077 non-null  int64  \n",
            " 3   Date                 41077 non-null  float64\n",
            " 4   Open                 41077 non-null  float64\n",
            " 5   CompetitionDistance  41077 non-null  float64\n",
            " 6   StateHoliday_0       41077 non-null  uint8  \n",
            " 7   StateHoliday_a       41077 non-null  uint8  \n",
            " 8   StoreType_a          41077 non-null  uint8  \n",
            " 9   StoreType_b          41077 non-null  uint8  \n",
            " 10  StoreType_c          41077 non-null  uint8  \n",
            " 11  StoreType_d          41077 non-null  uint8  \n",
            " 12  Assortment_a         41077 non-null  uint8  \n",
            " 13  Assortment_b         41077 non-null  uint8  \n",
            " 14  Assortment_c         41077 non-null  uint8  \n",
            " 15  Promo_0              41077 non-null  uint8  \n",
            " 16  Promo_1              41077 non-null  uint8  \n",
            " 17  Promo2_0             41077 non-null  uint8  \n",
            " 18  Promo2_1             41077 non-null  uint8  \n",
            " 19  SchoolHoliday_0      41077 non-null  uint8  \n",
            " 20  SchoolHoliday_1      41077 non-null  uint8  \n",
            "dtypes: float64(3), int64(3), uint8(15)\n",
            "memory usage: 2.8 MB\n"
          ]
        }
      ]
    },
    {
      "cell_type": "code",
      "source": [
        "x = d_train_store.loc[:, d_train_store.columns != 'Sales']\n",
        "y = d_train_store.loc[:, 'Sales']\n",
        "print(x.shape, y.shape)"
      ],
      "metadata": {
        "colab": {
          "base_uri": "https://localhost:8080/"
        },
        "id": "bHW6EzKoPpbw",
        "outputId": "37483bd4-4743-4ed3-f4a5-cb2f447f0b27"
      },
      "id": "bHW6EzKoPpbw",
      "execution_count": null,
      "outputs": [
        {
          "output_type": "stream",
          "name": "stdout",
          "text": [
            "(1017209, 24) (1017209,)\n"
          ]
        }
      ]
    },
    {
      "cell_type": "code",
      "source": [
        "predicted_df = pd.DataFrame(columns=['Id', 'Sales'])\n",
        "predicted_df[\"Id\"] = d_test_store.pop('Id')\n",
        "X_test = d_test_store\n",
        "X_test = np.resize(X_test, (X_test.shape[0], 1, X_test.shape[1])).astype(float)\n",
        "predicted = model.predict(X_test)\n",
        "print(predicted.shape)"
      ],
      "metadata": {
        "id": "tijJAGaeHKGq"
      },
      "id": "tijJAGaeHKGq",
      "execution_count": null,
      "outputs": []
    },
    {
      "cell_type": "code",
      "source": [
        "numStores = x['Store'].nunique()\n",
        "numDays = x['Date'].nunique()\n",
        "numAttributes = len(x.columns)\n",
        "print(\"Dimensions: \"+str(numStores)+\" \"+str(numDays)+\" \"+str(numAttributes))\n",
        "print(\"Reshaped Total: \"+str(numAttributes*numDays*numStores))\n",
        "print(\"Actual total: \"+str(x.size))\n",
        "print(\"Difference: \"+str(numAttributes*numDays*numStores-x.size))"
      ],
      "metadata": {
        "id": "1hwAWYZKXMjP",
        "colab": {
          "base_uri": "https://localhost:8080/"
        },
        "outputId": "0debd777-e80d-4fc9-a4b9-3ec8938c543a"
      },
      "id": "1hwAWYZKXMjP",
      "execution_count": null,
      "outputs": [
        {
          "output_type": "stream",
          "name": "stdout",
          "text": [
            "Dimensions: 1115 942 24\n",
            "Reshaped Total: 25207920\n",
            "Actual total: 24413016\n",
            "Difference: 794904\n"
          ]
        }
      ]
    },
    {
      "cell_type": "code",
      "source": [
        "(unique, counts) = np.unique(x['Store'], return_counts=True)\n",
        "frequencies = np.asarray((unique, counts)).T\n",
        "storesMissingDays = []\n",
        "for store in frequencies:\n",
        "  if store[1] < 942:\n",
        "    storesMissingDays.append(store)\n",
        "print(len(storesMissingDays))\n",
        "print(storesMissingDays)"
      ],
      "metadata": {
        "colab": {
          "base_uri": "https://localhost:8080/"
        },
        "id": "ocPo1LOJZe0h",
        "outputId": "7a7a3482-a159-45f2-c257-3e7d6482e412"
      },
      "id": "ocPo1LOJZe0h",
      "execution_count": null,
      "outputs": [
        {
          "output_type": "stream",
          "name": "stdout",
          "text": [
            "181\n",
            "[array([ 13, 758]), array([ 20, 758]), array([ 22, 758]), array([ 32, 758]), array([ 36, 758]), array([ 41, 758]), array([ 46, 758]), array([ 51, 758]), array([ 52, 758]), array([ 58, 758]), array([ 72, 758]), array([ 76, 758]), array([ 81, 758]), array([ 89, 758]), array([ 99, 758]), array([100, 758]), array([108, 758]), array([113, 758]), array([115, 758]), array([127, 758]), array([129, 758]), array([132, 758]), array([136, 758]), array([137, 758]), array([139, 758]), array([144, 758]), array([145, 758]), array([149, 758]), array([155, 758]), array([159, 758]), array([164, 758]), array([165, 758]), array([172, 758]), array([174, 758]), array([181, 758]), array([183, 758]), array([186, 758]), array([190, 758]), array([191, 758]), array([192, 758]), array([204, 758]), array([215, 758]), array([218, 758]), array([231, 758]), array([243, 758]), array([258, 758]), array([263, 758]), array([275, 758]), array([277, 758]), array([279, 758]), array([283, 758]), array([284, 758]), array([287, 758]), array([288, 758]), array([298, 758]), array([306, 758]), array([317, 758]), array([342, 758]), array([345, 758]), array([348, 758]), array([365, 758]), array([385, 758]), array([399, 758]), array([407, 758]), array([412, 758]), array([413, 758]), array([420, 758]), array([427, 758]), array([428, 758]), array([429, 758]), array([430, 758]), array([434, 758]), array([457, 758]), array([471, 758]), array([477, 758]), array([485, 758]), array([490, 758]), array([492, 758]), array([498, 758]), array([500, 758]), array([501, 758]), array([512, 758]), array([514, 758]), array([518, 758]), array([522, 758]), array([534, 758]), array([539, 758]), array([540, 758]), array([542, 758]), array([547, 758]), array([555, 758]), array([571, 758]), array([573, 758]), array([575, 758]), array([587, 758]), array([598, 758]), array([604, 758]), array([611, 758]), array([612, 758]), array([619, 758]), array([620, 758]), array([629, 758]), array([633, 758]), array([636, 758]), array([637, 758]), array([638, 758]), array([644, 758]), array([646, 758]), array([650, 758]), array([660, 758]), array([669, 758]), array([670, 758]), array([671, 758]), array([677, 758]), array([684, 758]), array([694, 758]), array([701, 758]), array([702, 758]), array([706, 758]), array([710, 758]), array([711, 758]), array([712, 758]), array([716, 758]), array([719, 758]), array([736, 758]), array([739, 758]), array([744, 758]), array([750, 758]), array([766, 758]), array([771, 758]), array([775, 758]), array([778, 758]), array([797, 758]), array([804, 758]), array([805, 758]), array([806, 758]), array([815, 758]), array([820, 758]), array([825, 758]), array([842, 758]), array([851, 758]), array([858, 758]), array([859, 758]), array([879, 758]), array([884, 758]), array([890, 758]), array([893, 758]), array([900, 758]), array([902, 758]), array([903, 758]), array([904, 758]), array([909, 758]), array([915, 758]), array([919, 758]), array([920, 758]), array([932, 758]), array([941, 758]), array([952, 758]), array([974, 758]), array([977, 758]), array([988, 941]), array([989, 758]), array([1000,  758]), array([1004,  758]), array([1009,  758]), array([1012,  758]), array([1019,  758]), array([1027,  758]), array([1038,  758]), array([1041,  758]), array([1049,  758]), array([1056,  758]), array([1065,  758]), array([1067,  758]), array([1080,  758]), array([1092,  758]), array([1094,  758]), array([1102,  758]), array([1104,  758]), array([1107,  758]), array([1109,  758])]\n"
          ]
        }
      ]
    },
    {
      "cell_type": "code",
      "source": [
        " Can't make reshape to 3d cube (to input into 2dconv) because of missing days in the dataset.\n",
        " Was planning on using SMOTE to oversample to the missing days but was not able to make it work.\n",
        " input = np.reshape(x, (numStores, numDays, numAttributes))"
      ],
      "metadata": {
        "id": "IkEyiTftbOAM"
      },
      "id": "IkEyiTftbOAM",
      "execution_count": null,
      "outputs": []
    }
  ]
}